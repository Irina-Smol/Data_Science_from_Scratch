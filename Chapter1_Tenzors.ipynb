{
 "cells": [
  {
   "cell_type": "code",
   "execution_count": 1,
   "id": "7343c876",
   "metadata": {},
   "outputs": [],
   "source": [
    "import torch"
   ]
  },
  {
   "cell_type": "markdown",
   "id": "009cd31c",
   "metadata": {},
   "source": [
    "## Тензоры - набор правил, которые определяют преобразования между тензорами (тензоры - многомерные массивы)"
   ]
  },
  {
   "cell_type": "markdown",
   "id": "60a5a237",
   "metadata": {},
   "source": [
    "Простой скаляр может быть представлен в виде тензора ранга 0, вектор - ранга 1, матрица n*n - ранга 2"
   ]
  },
  {
   "cell_type": "code",
   "execution_count": 2,
   "id": "299f425f",
   "metadata": {},
   "outputs": [
    {
     "data": {
      "text/plain": [
       "tensor([[0, 0, 1],\n",
       "        [1, 1, 1],\n",
       "        [0, 0, 0]])"
      ]
     },
     "execution_count": 2,
     "metadata": {},
     "output_type": "execute_result"
    }
   ],
   "source": [
    "x = torch.tensor([[0, 0, 1], [1, 1, 1],[0, 0, 0]])\n",
    "x"
   ]
  },
  {
   "cell_type": "code",
   "execution_count": 3,
   "id": "02aeea1a",
   "metadata": {},
   "outputs": [],
   "source": [
    "x[0][0] = 5"
   ]
  },
  {
   "cell_type": "code",
   "execution_count": 4,
   "id": "449852e0",
   "metadata": {},
   "outputs": [
    {
     "data": {
      "text/plain": [
       "tensor([[5, 0, 1],\n",
       "        [1, 1, 1],\n",
       "        [0, 0, 0]])"
      ]
     },
     "execution_count": 4,
     "metadata": {},
     "output_type": "execute_result"
    }
   ],
   "source": [
    "x"
   ]
  },
  {
   "cell_type": "code",
   "execution_count": 5,
   "id": "d593f38c",
   "metadata": {},
   "outputs": [
    {
     "data": {
      "text/plain": [
       "tensor([[0., 0.],\n",
       "        [0., 0.]])"
      ]
     },
     "execution_count": 5,
     "metadata": {},
     "output_type": "execute_result"
    }
   ],
   "source": [
    "torch.zeros(2, 2)"
   ]
  },
  {
   "cell_type": "code",
   "execution_count": 11,
   "id": "d03aa1f9",
   "metadata": {},
   "outputs": [
    {
     "name": "stdout",
     "output_type": "stream",
     "text": [
      "tensor([[1., 1.]])\n",
      "tensor([[1., 1.]])\n"
     ]
    },
    {
     "data": {
      "text/plain": [
       "tensor([[2., 2.]])"
      ]
     },
     "execution_count": 11,
     "metadata": {},
     "output_type": "execute_result"
    }
   ],
   "source": [
    "tensor = torch.ones(1, 2)\n",
    "tensor2 = torch.ones(1, 2)\n",
    "print(tensor)\n",
    "print(tensor2)\n",
    "tensor + tensor2"
   ]
  },
  {
   "cell_type": "code",
   "execution_count": 8,
   "id": "759ca875",
   "metadata": {},
   "outputs": [
    {
     "data": {
      "text/plain": [
       "tensor([[2., 2.]])"
      ]
     },
     "execution_count": 8,
     "metadata": {},
     "output_type": "execute_result"
    }
   ],
   "source": [
    "torch.ones(1, 2) + torch.ones(1, 2)"
   ]
  },
  {
   "cell_type": "code",
   "execution_count": 9,
   "id": "1efa0e69",
   "metadata": {},
   "outputs": [
    {
     "data": {
      "text/plain": [
       "0.1081470251083374"
      ]
     },
     "execution_count": 9,
     "metadata": {},
     "output_type": "execute_result"
    }
   ],
   "source": [
    "torch.rand(1).item() # тензор ранга 0, извлечение значения с помощью item "
   ]
  },
  {
   "cell_type": "code",
   "execution_count": 12,
   "id": "5214223f",
   "metadata": {},
   "outputs": [
    {
     "data": {
      "text/plain": [
       "tensor([[0., 0.],\n",
       "        [0., 0.]])"
      ]
     },
     "execution_count": 12,
     "metadata": {},
     "output_type": "execute_result"
    }
   ],
   "source": [
    "torch.zeros(2,2)"
   ]
  },
  {
   "cell_type": "code",
   "execution_count": 14,
   "id": "1b66efa5",
   "metadata": {},
   "outputs": [
    {
     "data": {
      "text/plain": [
       "device(type='cpu')"
      ]
     },
     "execution_count": 14,
     "metadata": {},
     "output_type": "execute_result"
    }
   ],
   "source": [
    "cpu_tensor = torch.rand(2)\n",
    "cpu_tensor.device"
   ]
  },
  {
   "cell_type": "code",
   "execution_count": 15,
   "id": "eec3f600",
   "metadata": {},
   "outputs": [
    {
     "data": {
      "text/plain": [
       "device(type='cuda', index=0)"
      ]
     },
     "execution_count": 15,
     "metadata": {},
     "output_type": "execute_result"
    }
   ],
   "source": [
    "gpu_tensor = cpu_tensor.to(\"cuda\")\n",
    "gpu_tensor.device"
   ]
  },
  {
   "cell_type": "markdown",
   "id": "b1e934d6",
   "metadata": {},
   "source": [
    "## Тензорные операции"
   ]
  },
  {
   "cell_type": "code",
   "execution_count": 16,
   "id": "5b56deae",
   "metadata": {},
   "outputs": [
    {
     "data": {
      "text/plain": [
       "tensor(0.6589)"
      ]
     },
     "execution_count": 16,
     "metadata": {},
     "output_type": "execute_result"
    }
   ],
   "source": [
    "torch.rand(2,2).max() # max value"
   ]
  },
  {
   "cell_type": "code",
   "execution_count": 17,
   "id": "352f76cf",
   "metadata": {},
   "outputs": [
    {
     "data": {
      "text/plain": [
       "0.7789564728736877"
      ]
     },
     "execution_count": 17,
     "metadata": {},
     "output_type": "execute_result"
    }
   ],
   "source": [
    "torch.rand(2,2).max().item() # standart value"
   ]
  },
  {
   "cell_type": "code",
   "execution_count": 19,
   "id": "57ca302a",
   "metadata": {},
   "outputs": [
    {
     "data": {
      "text/plain": [
       "'torch.LongTensor'"
      ]
     },
     "execution_count": 19,
     "metadata": {},
     "output_type": "execute_result"
    }
   ],
   "source": [
    "# Изменение типа тензора\n",
    "# шаг 1\n",
    "long_tensor = torch.tensor([[0,0,1],[1,1,1],[0,0,0]])\n",
    "long_tensor.type()"
   ]
  },
  {
   "cell_type": "code",
   "execution_count": 21,
   "id": "e8d101ad",
   "metadata": {},
   "outputs": [
    {
     "data": {
      "text/plain": [
       "'torch.FloatTensor'"
      ]
     },
     "execution_count": 21,
     "metadata": {},
     "output_type": "execute_result"
    }
   ],
   "source": [
    "# шаг 2\n",
    "float_tensor = torch.tensor([[0,0,1],[1,1,1],[0,0,0]]).to(dtype=torch.float32)\n",
    "float_tensor.type()"
   ]
  },
  {
   "cell_type": "code",
   "execution_count": 22,
   "id": "38dbeba5",
   "metadata": {},
   "outputs": [
    {
     "data": {
      "text/plain": [
       "tensor([[-1.3374, -0.7406],\n",
       "        [-0.1430, -0.5599]])"
      ]
     },
     "execution_count": 22,
     "metadata": {},
     "output_type": "execute_result"
    }
   ],
   "source": [
    "# хранение результата\n",
    "random_tensor = torch.rand(2,2)\n",
    "random_tensor.log2()"
   ]
  },
  {
   "cell_type": "code",
   "execution_count": 23,
   "id": "1030a0a3",
   "metadata": {},
   "outputs": [
    {
     "data": {
      "text/plain": [
       "tensor([[-1.3374, -0.7406],\n",
       "        [-0.1430, -0.5599]])"
      ]
     },
     "execution_count": 23,
     "metadata": {},
     "output_type": "execute_result"
    }
   ],
   "source": [
    "random_tensor.log2_()"
   ]
  },
  {
   "cell_type": "code",
   "execution_count": 25,
   "id": "0bccaa67",
   "metadata": {},
   "outputs": [
    {
     "data": {
      "text/plain": [
       "torch.Size([1, 28, 28])"
      ]
     },
     "execution_count": 25,
     "metadata": {},
     "output_type": "execute_result"
    }
   ],
   "source": [
    "# изменение тензора\n",
    "flat_tensor = torch.rand(784)\n",
    "viewed_tensor = flat_tensor.view(1,28,28)\n",
    "viewed_tensor.shape"
   ]
  },
  {
   "cell_type": "code",
   "execution_count": 26,
   "id": "7c4b7ef9",
   "metadata": {},
   "outputs": [
    {
     "data": {
      "text/plain": [
       "torch.Size([1, 28, 28])"
      ]
     },
     "execution_count": 26,
     "metadata": {},
     "output_type": "execute_result"
    }
   ],
   "source": [
    "reshaped_tensor = flat_tensor.reshape(1,28,28)\n",
    "reshaped_tensor.shape"
   ]
  },
  {
   "cell_type": "markdown",
   "id": "2c1c4502",
   "metadata": {},
   "source": [
    "Разница view() и reshape(): \n",
    "\n",
    "    - view() работает как представление исходного тензора, поэтому если базовые данные будут изменены, представление также изменится (и наоборот)\n",
    "    \n",
    "    - reshape() делает это незаметно (рекомендуется)"
   ]
  },
  {
   "cell_type": "code",
   "execution_count": 28,
   "id": "44494444",
   "metadata": {},
   "outputs": [
    {
     "data": {
      "text/plain": [
       "torch.Size([3, 640, 480])"
      ]
     },
     "execution_count": 28,
     "metadata": {},
     "output_type": "execute_result"
    }
   ],
   "source": [
    "# изменить размеры тензора\n",
    "hwc_tensor = torch.rand(640,480,3)\n",
    "chw_tensor = hwc_tensor.permute(2,0,1)\n",
    "chw_tensor.shape"
   ]
  },
  {
   "cell_type": "markdown",
   "id": "416a38af",
   "metadata": {},
   "source": [
    "## Транслирование тензора (выполнить операции между одним тензором и другим, но меньшего размера)"
   ]
  },
  {
   "cell_type": "markdown",
   "id": "2bdadbc8",
   "metadata": {},
   "source": [
    "Можно транслировать:\n",
    "\n",
    "    1) две размерности равны\n",
    "    2) одна из размерностей является 1"
   ]
  },
  {
   "cell_type": "code",
   "execution_count": null,
   "id": "feb70e3d",
   "metadata": {},
   "outputs": [],
   "source": []
  }
 ],
 "metadata": {
  "kernelspec": {
   "display_name": "Python 3 (ipykernel)",
   "language": "python",
   "name": "python3"
  },
  "language_info": {
   "codemirror_mode": {
    "name": "ipython",
    "version": 3
   },
   "file_extension": ".py",
   "mimetype": "text/x-python",
   "name": "python",
   "nbconvert_exporter": "python",
   "pygments_lexer": "ipython3",
   "version": "3.9.16"
  }
 },
 "nbformat": 4,
 "nbformat_minor": 5
}
