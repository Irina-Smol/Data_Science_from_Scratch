{
 "cells": [
  {
   "cell_type": "markdown",
   "id": "ba29318f",
   "metadata": {},
   "source": [
    "## Словарь defaultdict"
   ]
  },
  {
   "cell_type": "markdown",
   "id": "ea92dc82",
   "metadata": {},
   "source": [
    "Задача: подсчитать количества появлений слов в документе"
   ]
  },
  {
   "cell_type": "code",
   "execution_count": 2,
   "id": "da766d50",
   "metadata": {},
   "outputs": [],
   "source": [
    "# 1 подход ключи - слова, значения - кол-во появлений слов \n",
    "document = [\"data\", \"science\", \"from\", \"scratch\"]\n",
    "\n",
    "\n",
    "word_counts = {}\n",
    "for word in document:\n",
    "    if word in word_counts:\n",
    "        word_counts[word] += 1\n",
    "    else:\n",
    "        word_counts[word] = 1"
   ]
  },
  {
   "cell_type": "code",
   "execution_count": 3,
   "id": "f96405bd",
   "metadata": {},
   "outputs": [],
   "source": [
    "# 2 подход перехватить ошибку при попытке обратиться к отсутствуюему ключу\n",
    "word_counts = {}\n",
    "for word in document:\n",
    "    try:\n",
    "        word_counts[word] += 1\n",
    "    except KeyError:\n",
    "        word_counts[word] = 1"
   ]
  },
  {
   "cell_type": "code",
   "execution_count": 4,
   "id": "f1506374",
   "metadata": {},
   "outputs": [],
   "source": [
    "# 3 подход использовать - использовать метод get, который изящно выходит из ситуации с отсутствующими ключами\n",
    "word_counts = {}\n",
    "for word in document:\n",
    "    previous_count = word_counts.get(word, 0)\n",
    "    word_counts[word] = previous_count + 1"
   ]
  },
  {
   "cell_type": "markdown",
   "id": "92c9dfc7",
   "metadata": {},
   "source": [
    "Целесообразно использовать словарь defaultdict. Он похож на обычный словарь, однако, при попытке обратиться к ключу, которого нет, он сперва добавляет для него значение, используя функцию без аргументов, которая предоставляется при его создании"
   ]
  },
  {
   "cell_type": "code",
   "execution_count": 5,
   "id": "8f2b626f",
   "metadata": {},
   "outputs": [],
   "source": [
    "from collections import defaultdict\n",
    "\n",
    "word_counts = defaultdict(int)          # int() produces 0\n",
    "for word in document:\n",
    "    word_counts[word] += 1\n",
    "\n",
    "dd_list = defaultdict(list)             # list() produces an empty list\n",
    "dd_list[2].append(1)                    # now dd_list contains {2: [1]}\n",
    "\n",
    "dd_dict = defaultdict(dict)             # dict() produces an empty dict\n",
    "dd_dict[\"Joel\"][\"City\"] = \"Seattle\"     # {\"Joel\" : {\"City\": Seattle\"}}\n",
    "\n",
    "dd_pair = defaultdict(lambda: [0, 0])\n",
    "dd_pair[2][1] = 1          "
   ]
  },
  {
   "cell_type": "code",
   "execution_count": null,
   "id": "63328b7f",
   "metadata": {},
   "outputs": [],
   "source": []
  }
 ],
 "metadata": {
  "kernelspec": {
   "display_name": "Python 3 (ipykernel)",
   "language": "python",
   "name": "python3"
  },
  "language_info": {
   "codemirror_mode": {
    "name": "ipython",
    "version": 3
   },
   "file_extension": ".py",
   "mimetype": "text/x-python",
   "name": "python",
   "nbconvert_exporter": "python",
   "pygments_lexer": "ipython3",
   "version": "3.10.9"
  }
 },
 "nbformat": 4,
 "nbformat_minor": 5
}
